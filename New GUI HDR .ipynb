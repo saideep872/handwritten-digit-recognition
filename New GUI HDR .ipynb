{
 "cells": [
  {
   "cell_type": "code",
   "execution_count": 13,
   "id": "d664b945",
   "metadata": {},
   "outputs": [],
   "source": [
    "#from tensorflowTesting import testing\n",
    "##import tensorflow as tf\n",
    "from keras.models import load_model\n",
    "import cv2\n",
    "import numpy as np\n",
    "import os\n",
    "\n",
    "from PIL import ImageTk, Image, ImageDraw\n",
    "import PIL\n",
    "import tkinter as tk\n",
    "from tkinter import *"
   ]
  },
  {
   "cell_type": "code",
   "execution_count": 14,
   "id": "bd4763da",
   "metadata": {},
   "outputs": [
    {
     "name": "stdout",
     "output_type": "stream",
     "text": [
      "argmax 3 \n",
      " 0.9996588 \n",
      " 3\n"
     ]
    }
   ],
   "source": [
    "classes=[0,1,2,3,4,5,6,7,8,9]\n",
    "width = 500\n",
    "height = 500\n",
    "center = height//2\n",
    "white = (255, 255, 255)\n",
    "green = (0,128,0)\n",
    "\n",
    "def paint(event):\n",
    "    x1, y1 = (event.x - 10), (event.y - 10)\n",
    "    x2, y2 = (event.x + 10), (event.y + 10)\n",
    "    cv.create_oval(x1, y1, x2, y2, fill=\"black\",width=40)\n",
    "    draw.line([x1, y1, x2, y2],fill=\"black\",width=40)\n",
    "def model():\n",
    "    import joblib\n",
    "    model=joblib.load(\"C:/Users/Hanuman/Desktop/HDR DCNN/Model/recog\")\n",
    "    filename = \"image.png\"\n",
    "    image1.save(filename)\n",
    "    img=cv2.imread('image.png',0)\n",
    "    img=cv2.bitwise_not(img)\n",
    "    img=cv2.resize(img,(28,28))\n",
    "    img=img.reshape(1,28,28,1)\n",
    "    img=img.astype('float32')\n",
    "    img=img/255.0\n",
    "    pred=model.predict(img)\n",
    "    print('argmax',np.argmax(pred[0]),'\\n',\n",
    "          pred[0][np.argmax(pred[0])],'\\n',classes[np.argmax(pred[0])])\n",
    "    txt.insert(tk.INSERT,\"The Prediction is:{}\".format(classes[np.argmax(pred[0])]))\n",
    "    \n",
    "def clear():\n",
    "    cv.delete('all')\n",
    "    draw.rectangle((0, 0, 500, 500), fill=(255, 255, 255, 0))\n",
    "    txt.delete('1.0', END)\n",
    "\n",
    "root = Tk()\n",
    "#root.geometry('400x500') \n",
    "\n",
    "root.resizable(0,0)\n",
    "cv = Canvas(root, width=width, height=height, bg='white')\n",
    "cv.pack()\n",
    "\n",
    "# PIL create an empty image and draw object to draw on\n",
    "# memory only, not visible\n",
    "image1 = PIL.Image.new(\"RGB\", (width, height), white)\n",
    "draw = ImageDraw.Draw(image1)\n",
    "\n",
    "txt=tk.Text(root,bd=3,exportselection=0,bg='WHITE',font='Helvetica',\n",
    "            padx=10,pady=10,height=5,width=20)\n",
    "\n",
    "cv.pack(expand=YES, fill=BOTH)\n",
    "cv.bind(\"<B1-Motion>\", paint)\n",
    "\n",
    "##button=Button(text=\"save\",command=save)\n",
    "btnModel=Button(text=\"Predict\",command=model)\n",
    "btnClear=Button(text=\"clear\",command=clear)\n",
    "btnExit=Button(text=\"Exit\",command=root.destroy)\n",
    "##button.pack()\n",
    "btnModel.pack()\n",
    "btnClear.pack()\n",
    "btnExit.pack()\n",
    "txt.pack()\n",
    "root.title('Handwritten Digit Recognizer By Team A20')\n",
    "root.mainloop()"
   ]
  },
  {
   "cell_type": "code",
   "execution_count": null,
   "id": "4bf3b0d0",
   "metadata": {},
   "outputs": [],
   "source": []
  }
 ],
 "metadata": {
  "kernelspec": {
   "display_name": "Python 3",
   "language": "python",
   "name": "python3"
  },
  "language_info": {
   "codemirror_mode": {
    "name": "ipython",
    "version": 3
   },
   "file_extension": ".py",
   "mimetype": "text/x-python",
   "name": "python",
   "nbconvert_exporter": "python",
   "pygments_lexer": "ipython3",
   "version": "3.6.13"
  }
 },
 "nbformat": 4,
 "nbformat_minor": 5
}
